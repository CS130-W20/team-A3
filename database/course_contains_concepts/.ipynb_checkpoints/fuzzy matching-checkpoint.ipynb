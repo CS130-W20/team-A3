{
 "cells": [
  {
   "cell_type": "code",
   "execution_count": 2,
   "metadata": {},
   "outputs": [],
   "source": [
    "import json\n",
    "import pickle as pkl\n",
    "from fuzzywuzzy import fuzz\n",
    "from fuzzywuzzy import process"
   ]
  },
  {
   "cell_type": "code",
   "execution_count": 3,
   "metadata": {},
   "outputs": [
    {
     "ename": "FileNotFoundError",
     "evalue": "[Errno 2] No such file or directory: './termonline_search_merged.json'",
     "output_type": "error",
     "traceback": [
      "\u001b[0;31m---------------------------------------------------------------------------\u001b[0m",
      "\u001b[0;31mFileNotFoundError\u001b[0m                         Traceback (most recent call last)",
      "\u001b[0;32m<ipython-input-3-e135d5fb6033>\u001b[0m in \u001b[0;36m<module>\u001b[0;34m\u001b[0m\n\u001b[0;32m----> 1\u001b[0;31m \u001b[0;32mwith\u001b[0m \u001b[0mopen\u001b[0m\u001b[0;34m(\u001b[0m\u001b[0;34m\"./termonline_search_merged.json\"\u001b[0m\u001b[0;34m,\u001b[0m\u001b[0;34m\"r\"\u001b[0m\u001b[0;34m)\u001b[0m \u001b[0;32mas\u001b[0m \u001b[0mf\u001b[0m\u001b[0;34m:\u001b[0m\u001b[0;34m\u001b[0m\u001b[0;34m\u001b[0m\u001b[0m\n\u001b[0m\u001b[1;32m      2\u001b[0m     \u001b[0mdata\u001b[0m \u001b[0;34m=\u001b[0m \u001b[0mf\u001b[0m\u001b[0;34m.\u001b[0m\u001b[0mreadlines\u001b[0m\u001b[0;34m(\u001b[0m\u001b[0;34m)\u001b[0m\u001b[0;34m\u001b[0m\u001b[0;34m\u001b[0m\u001b[0m\n\u001b[1;32m      3\u001b[0m \u001b[0;32mwith\u001b[0m \u001b[0mopen\u001b[0m\u001b[0;34m(\u001b[0m\u001b[0;34m\"./concept_list.pkl\"\u001b[0m\u001b[0;34m,\u001b[0m\u001b[0;34m\"rb\"\u001b[0m\u001b[0;34m)\u001b[0m \u001b[0;32mas\u001b[0m \u001b[0mf\u001b[0m\u001b[0;34m:\u001b[0m\u001b[0;34m\u001b[0m\u001b[0;34m\u001b[0m\u001b[0m\n\u001b[1;32m      4\u001b[0m     \u001b[0mconcepts\u001b[0m \u001b[0;34m=\u001b[0m \u001b[0mpkl\u001b[0m\u001b[0;34m.\u001b[0m\u001b[0mload\u001b[0m\u001b[0;34m(\u001b[0m\u001b[0mf\u001b[0m\u001b[0;34m)\u001b[0m\u001b[0;34m\u001b[0m\u001b[0;34m\u001b[0m\u001b[0m\n\u001b[1;32m      5\u001b[0m \u001b[0;32mwith\u001b[0m \u001b[0mopen\u001b[0m\u001b[0;34m(\u001b[0m\u001b[0;34m\"./combined_concept_list.pkl\"\u001b[0m\u001b[0;34m,\u001b[0m\u001b[0;34m\"rb\"\u001b[0m\u001b[0;34m)\u001b[0m \u001b[0;32mas\u001b[0m \u001b[0mf\u001b[0m\u001b[0;34m:\u001b[0m\u001b[0;34m\u001b[0m\u001b[0;34m\u001b[0m\u001b[0m\n",
      "\u001b[0;31mFileNotFoundError\u001b[0m: [Errno 2] No such file or directory: './termonline_search_merged.json'"
     ]
    }
   ],
   "source": [
    "with open(\"./termonline_search_merged.json\",\"r\") as f:\n",
    "    data = f.readlines()\n",
    "with open(\"./concept_list.pkl\",\"rb\") as f:\n",
    "    concepts = pkl.load(f)\n",
    "with open(\"./combined_concept_list.pkl\",\"rb\") as f:\n",
    "    newconcepts = pkl.load(f)"
   ]
  },
  {
   "cell_type": "code",
   "execution_count": 4,
   "metadata": {},
   "outputs": [
    {
     "ename": "NameError",
     "evalue": "name 'concepts' is not defined",
     "output_type": "error",
     "traceback": [
      "\u001b[0;31m---------------------------------------------------------------------------\u001b[0m",
      "\u001b[0;31mNameError\u001b[0m                                 Traceback (most recent call last)",
      "\u001b[0;32m<ipython-input-4-377696c579c4>\u001b[0m in \u001b[0;36m<module>\u001b[0;34m\u001b[0m\n\u001b[0;32m----> 1\u001b[0;31m \u001b[0mlen\u001b[0m\u001b[0;34m(\u001b[0m\u001b[0mconcepts\u001b[0m\u001b[0;34m)\u001b[0m\u001b[0;34m\u001b[0m\u001b[0;34m\u001b[0m\u001b[0m\n\u001b[0m",
      "\u001b[0;31mNameError\u001b[0m: name 'concepts' is not defined"
     ]
    }
   ],
   "source": [
    "len(concepts)"
   ]
  },
  {
   "cell_type": "markdown",
   "metadata": {},
   "source": [
    "### machine learning Previous"
   ]
  },
  {
   "cell_type": "code",
   "execution_count": 1,
   "metadata": {},
   "outputs": [
    {
     "ename": "NameError",
     "evalue": "name 'process' is not defined",
     "output_type": "error",
     "traceback": [
      "\u001b[0;31m---------------------------------------------------------------------------\u001b[0m",
      "\u001b[0;31mNameError\u001b[0m                                 Traceback (most recent call last)",
      "\u001b[0;32m<ipython-input-1-6be8622ee28f>\u001b[0m in \u001b[0;36m<module>\u001b[0;34m\u001b[0m\n\u001b[0;32m----> 1\u001b[0;31m \u001b[0mprocess\u001b[0m\u001b[0;34m.\u001b[0m\u001b[0mextract\u001b[0m\u001b[0;34m(\u001b[0m\u001b[0;34m\"machine learning\"\u001b[0m\u001b[0;34m,\u001b[0m\u001b[0mconcepts\u001b[0m\u001b[0;34m,\u001b[0m\u001b[0mlimit\u001b[0m\u001b[0;34m=\u001b[0m\u001b[0;36m1\u001b[0m\u001b[0;34m,\u001b[0m\u001b[0mscorer\u001b[0m\u001b[0;34m=\u001b[0m\u001b[0mfuzz\u001b[0m\u001b[0;34m.\u001b[0m\u001b[0mtoken_sort_ratio\u001b[0m\u001b[0;34m)\u001b[0m\u001b[0;34m\u001b[0m\u001b[0;34m\u001b[0m\u001b[0m\n\u001b[0m",
      "\u001b[0;31mNameError\u001b[0m: name 'process' is not defined"
     ]
    }
   ],
   "source": [
    "process.extract(\"machine learning\",concepts,limit=1,scorer=fuzz.token_sort_ratio)"
   ]
  },
  {
   "cell_type": "markdown",
   "metadata": {},
   "source": [
    "### machine learning New"
   ]
  },
  {
   "cell_type": "code",
   "execution_count": 5,
   "metadata": {},
   "outputs": [
    {
     "data": {
      "text/plain": [
       "[('machine learning', 100),\n",
       " ('enigma machine', 80),\n",
       " ('online learning', 77),\n",
       " ('machine learning algorithm', 76),\n",
       " ('retained earning', 75),\n",
       " ('drafting machine', 75),\n",
       " ('machine learning researcher', 74),\n",
       " ('learning option', 71),\n",
       " ('machine load', 71),\n",
       " ('alternating turing machine', 71)]"
      ]
     },
     "execution_count": 5,
     "metadata": {},
     "output_type": "execute_result"
    }
   ],
   "source": [
    "process.extract(\"machine learning\",newconcepts,limit=10,scorer=fuzz.token_sort_ratio)"
   ]
  },
  {
   "cell_type": "markdown",
   "metadata": {},
   "source": [
    "### ML"
   ]
  },
  {
   "cell_type": "code",
   "execution_count": 6,
   "metadata": {},
   "outputs": [
    {
     "data": {
      "text/plain": [
       "[('ML', 100),\n",
       " ('mel', 80),\n",
       " ('medial', 50),\n",
       " ('anomaly', 44),\n",
       " ('example', 44),\n",
       " ('δ model', 44),\n",
       " ('LR-item', 44),\n",
       " ('γ model', 44),\n",
       " ('numeral', 44),\n",
       " ('emulator', 40)]"
      ]
     },
     "execution_count": 6,
     "metadata": {},
     "output_type": "execute_result"
    }
   ],
   "source": [
    "process.extract(\"ML\",concepts,limit=10,scorer=fuzz.token_sort_ratio)"
   ]
  },
  {
   "cell_type": "code",
   "execution_count": 7,
   "metadata": {},
   "outputs": [
    {
     "data": {
      "text/plain": [
       "[('ML', 100),\n",
       " ('xml', 80),\n",
       " ('mel', 80),\n",
       " ('sbml', 67),\n",
       " ('ampl', 67),\n",
       " ('aiml', 67),\n",
       " ('mysql', 57),\n",
       " ('chembl', 50),\n",
       " ('simula', 50),\n",
       " ('syncml', 50)]"
      ]
     },
     "execution_count": 7,
     "metadata": {},
     "output_type": "execute_result"
    }
   ],
   "source": [
    "process.extract(\"ML\",newconcepts,limit=10,scorer=fuzz.token_sort_ratio)"
   ]
  },
  {
   "cell_type": "markdown",
   "metadata": {},
   "source": [
    "### algorithms"
   ]
  },
  {
   "cell_type": "code",
   "execution_count": 8,
   "metadata": {},
   "outputs": [
    {
     "data": {
      "text/plain": [
       "[('EM algorithm', 82),\n",
       " ('ARIES algorithm', 80),\n",
       " ('FASTA algorithm', 80),\n",
       " ('Sollin algorithm', 77),\n",
       " (\"Shor's algorithm\", 77),\n",
       " ('inside algorithm', 77),\n",
       " (\"Prim's algorithm\", 77),\n",
       " ('DPLL algorithm', 75),\n",
       " ('simplex algorithm', 74),\n",
       " (\"Booth's algorithm\", 74)]"
      ]
     },
     "execution_count": 8,
     "metadata": {},
     "output_type": "execute_result"
    }
   ],
   "source": [
    "process.extract(\"algorithms\",concepts,limit=10,scorer=fuzz.token_sort_ratio)"
   ]
  },
  {
   "cell_type": "code",
   "execution_count": 9,
   "metadata": {},
   "outputs": [
    {
     "data": {
      "text/plain": [
       "[('algorithm', 95),\n",
       " ('odds algorithm', 83),\n",
       " ('EM algorithm', 82),\n",
       " ('pi algorithm', 82),\n",
       " ('ARIES algorithm', 80),\n",
       " ('FASTA algorithm', 80),\n",
       " ('fft algorithm', 78),\n",
       " ('algorithm design', 77),\n",
       " (\"Shor's algorithm\", 77),\n",
       " ('inside algorithm', 77)]"
      ]
     },
     "execution_count": 9,
     "metadata": {},
     "output_type": "execute_result"
    }
   ],
   "source": [
    "process.extract(\"algorithms\",newconcepts,limit=10,scorer=fuzz.token_sort_ratio)"
   ]
  },
  {
   "cell_type": "markdown",
   "metadata": {},
   "source": [
    "### statistical models"
   ]
  },
  {
   "cell_type": "code",
   "execution_count": 10,
   "metadata": {},
   "outputs": [
    {
     "data": {
      "text/plain": [
       "[('statistical coding', 78),\n",
       " ('statistical potential', 77),\n",
       " ('statistical distance', 74),\n",
       " ('stair-step model', 71),\n",
       " ('physical model', 69),\n",
       " ('statistical linguistics', 68),\n",
       " ('statistical rhetoric', 68),\n",
       " ('stochastic volatility model', 67),\n",
       " ('statistical arbitrage', 67),\n",
       " ('statistical inference', 67)]"
      ]
     },
     "execution_count": 10,
     "metadata": {},
     "output_type": "execute_result"
    }
   ],
   "source": [
    "process.extract(\"statistical models\",concepts,limit=10,scorer=fuzz.token_sort_ratio)"
   ]
  },
  {
   "cell_type": "code",
   "execution_count": 11,
   "metadata": {},
   "outputs": [
    {
     "data": {
      "text/plain": [
       "[('statistical model', 97),\n",
       " ('statistical law', 79),\n",
       " ('statistical coding', 78),\n",
       " ('statistical potential', 77),\n",
       " ('statistical genetics', 74),\n",
       " ('statistical software', 74),\n",
       " ('statistical distance', 74),\n",
       " ('statistical semantics', 72),\n",
       " ('stair-step model', 71),\n",
       " ('physical model', 69)]"
      ]
     },
     "execution_count": 11,
     "metadata": {},
     "output_type": "execute_result"
    }
   ],
   "source": [
    "process.extract(\"statistical models\",newconcepts,limit=10,scorer=fuzz.token_sort_ratio)"
   ]
  },
  {
   "cell_type": "markdown",
   "metadata": {},
   "source": [
    "### computer"
   ]
  },
  {
   "cell_type": "code",
   "execution_count": 12,
   "metadata": {},
   "outputs": [
    {
     "data": {
      "text/plain": [
       "[('computer', 100),\n",
       " ('computer art', 80),\n",
       " ('bio-computer', 80),\n",
       " ('minicomputer', 80),\n",
       " ('supercomputer', 76),\n",
       " ('microcomputer', 76),\n",
       " ('compiler', 75),\n",
       " ('computer crime', 73),\n",
       " ('green computer', 73),\n",
       " ('array computer', 73)]"
      ]
     },
     "execution_count": 12,
     "metadata": {},
     "output_type": "execute_result"
    }
   ],
   "source": [
    "process.extract(\"computer\",concepts,limit=10,scorer=fuzz.token_sort_ratio)"
   ]
  },
  {
   "cell_type": "code",
   "execution_count": 13,
   "metadata": {},
   "outputs": [
    {
     "data": {
      "text/plain": [
       "[('computer', 100),\n",
       " ('computer go', 84),\n",
       " ('computer art', 80),\n",
       " ('bio-computer', 80),\n",
       " ('ibm computer', 80),\n",
       " ('computer bus', 80),\n",
       " ('minicomputer', 80),\n",
       " ('microcomputer', 76),\n",
       " ('supercomputer', 76),\n",
       " ('home computer', 76)]"
      ]
     },
     "execution_count": 13,
     "metadata": {},
     "output_type": "execute_result"
    }
   ],
   "source": [
    "process.extract(\"computer\",newconcepts,limit=10,scorer=fuzz.token_sort_ratio)"
   ]
  },
  {
   "cell_type": "markdown",
   "metadata": {},
   "source": [
    "### specific task"
   ]
  },
  {
   "cell_type": "code",
   "execution_count": 14,
   "metadata": {},
   "outputs": [
    {
     "data": {
      "text/plain": [
       "[('specification', 69),\n",
       " ('task conflict', 69),\n",
       " ('specialized team', 62),\n",
       " ('specific plan', 62),\n",
       " ('specialist', 61),\n",
       " ('job specification', 60),\n",
       " ('specific right', 59),\n",
       " ('assets specificity', 58),\n",
       " ('specific policy', 57),\n",
       " ('psychic risk', 56)]"
      ]
     },
     "execution_count": 14,
     "metadata": {},
     "output_type": "execute_result"
    }
   ],
   "source": [
    "process.extract(\"specific task\",concepts,limit=10,scorer=fuzz.token_sort_ratio)"
   ]
  },
  {
   "cell_type": "code",
   "execution_count": 15,
   "metadata": {},
   "outputs": [
    {
     "data": {
      "text/plain": [
       "[('task conflict', 69),\n",
       " ('specification', 69),\n",
       " ('specialized team', 62),\n",
       " ('specific plan', 62),\n",
       " ('specialist', 61),\n",
       " ('job specification', 60),\n",
       " ('specific model', 59),\n",
       " ('specific right', 59),\n",
       " ('assets specificity', 58),\n",
       " ('specific policy', 57)]"
      ]
     },
     "execution_count": 15,
     "metadata": {},
     "output_type": "execute_result"
    }
   ],
   "source": [
    "process.extract(\"specific task\",newconcepts,limit=10,scorer=fuzz.token_sort_ratio)"
   ]
  },
  {
   "cell_type": "markdown",
   "metadata": {},
   "source": [
    "### subset"
   ]
  },
  {
   "cell_type": "code",
   "execution_count": 16,
   "metadata": {},
   "outputs": [
    {
     "data": {
      "text/plain": [
       "[('assets', 77),\n",
       " ('subnet', 77),\n",
       " ('subject', 71),\n",
       " ('substring', 62),\n",
       " ('use', 60),\n",
       " ('subscriber', 59),\n",
       " ('substratum', 59),\n",
       " ('subtree', 57),\n",
       " ('cut set', 57),\n",
       " ('substantive', 56)]"
      ]
     },
     "execution_count": 16,
     "metadata": {},
     "output_type": "execute_result"
    }
   ],
   "source": [
    "process.extract(\"subsets\",concepts,limit=10,scorer=fuzz.token_sort_ratio)"
   ]
  },
  {
   "cell_type": "code",
   "execution_count": 17,
   "metadata": {},
   "outputs": [
    {
     "data": {
      "text/plain": [
       "[('assets', 77),\n",
       " ('subnet', 77),\n",
       " ('subject', 71),\n",
       " ('substring', 62),\n",
       " ('use', 60),\n",
       " ('result set', 59),\n",
       " ('subscriber', 59),\n",
       " ('substratum', 59),\n",
       " ('subtree', 57),\n",
       " ('botnets', 57)]"
      ]
     },
     "execution_count": 17,
     "metadata": {},
     "output_type": "execute_result"
    }
   ],
   "source": [
    "process.extract(\"subsets\",newconcepts,limit=10,scorer=fuzz.token_sort_ratio)"
   ]
  },
  {
   "cell_type": "markdown",
   "metadata": {},
   "source": [
    "### artificial intelligence"
   ]
  },
  {
   "cell_type": "code",
   "execution_count": 18,
   "metadata": {},
   "outputs": [
    {
     "data": {
      "text/plain": [
       "[('Artificial Intelligence', 100),\n",
       " ('logics for artificial intelligence', 81),\n",
       " ('distributed artificial intelligence', 79),\n",
       " ('artificial life', 74),\n",
       " ('computational intelligence', 73),\n",
       " ('cultural intelligence', 73),\n",
       " ('artificial neuron', 70),\n",
       " ('intelligent agriculture', 70),\n",
       " ('competitive intelligence', 68),\n",
       " ('intelligent city', 67)]"
      ]
     },
     "execution_count": 18,
     "metadata": {},
     "output_type": "execute_result"
    }
   ],
   "source": [
    "process.extract(\"artificial intelligence\",concepts,limit=10,scorer=fuzz.token_sort_ratio)"
   ]
  },
  {
   "cell_type": "code",
   "execution_count": 19,
   "metadata": {},
   "outputs": [
    {
     "data": {
      "text/plain": [
       "[('Artificial Intelligence', 100),\n",
       " ('artificial intelligence', 100),\n",
       " ('artificial intelligence system', 87),\n",
       " ('artificial general intelligence', 85),\n",
       " ('artificial intelligence laboratory', 81),\n",
       " ('artificial intelligence researcher', 81),\n",
       " ('logics for artificial intelligence', 81),\n",
       " ('artificial intelligence application', 79),\n",
       " ('distributed artificial intelligence', 79),\n",
       " ('philosophy of artificial intelligence', 77)]"
      ]
     },
     "execution_count": 19,
     "metadata": {},
     "output_type": "execute_result"
    }
   ],
   "source": [
    "process.extract(\"artificial intelligence\",newconcepts,limit=10,scorer=fuzz.token_sort_ratio)"
   ]
  },
  {
   "cell_type": "markdown",
   "metadata": {},
   "source": [
    "### mathematical model"
   ]
  },
  {
   "cell_type": "code",
   "execution_count": 20,
   "metadata": {},
   "outputs": [
    {
     "data": {
      "text/plain": [
       "[('mathematical morphology', 78),\n",
       " ('dynamical model', 73),\n",
       " ('mathematical simulation', 73),\n",
       " ('graphical model', 73),\n",
       " ('mathematical model of matrix game', 71),\n",
       " ('image data model', 65),\n",
       " ('data model', 64),\n",
       " ('genetic algorithm model', 63),\n",
       " ('mathematical finance', 63),\n",
       " ('incremental model', 63)]"
      ]
     },
     "execution_count": 20,
     "metadata": {},
     "output_type": "execute_result"
    }
   ],
   "source": [
    "process.extract(\"mathematical model\",concepts,limit=10,scorer=fuzz.token_sort_ratio)"
   ]
  },
  {
   "cell_type": "code",
   "execution_count": 21,
   "metadata": {},
   "outputs": [
    {
     "data": {
      "text/plain": [
       "[('mathematical modeling', 92),\n",
       " ('mathematical morphology', 78),\n",
       " ('mathematical relation', 77),\n",
       " ('mathematical simulation', 73),\n",
       " ('graphical model', 73),\n",
       " ('dynamical model', 73),\n",
       " ('logical data model', 72),\n",
       " ('mathematical model of matrix game', 71),\n",
       " ('lattice model', 71),\n",
       " ('mathematical optimization', 70)]"
      ]
     },
     "execution_count": 21,
     "metadata": {},
     "output_type": "execute_result"
    }
   ],
   "source": [
    "process.extract(\"mathematical model\",newconcepts,limit=10,scorer=fuzz.token_sort_ratio)"
   ]
  },
  {
   "cell_type": "markdown",
   "metadata": {},
   "source": [
    "### computer vision"
   ]
  },
  {
   "cell_type": "code",
   "execution_count": 22,
   "metadata": {},
   "outputs": [
    {
     "data": {
      "text/plain": [
       "[('computer vision', 100),\n",
       " ('computerization', 80),\n",
       " ('computer science', 77),\n",
       " ('computer simulation', 76),\n",
       " ('personal computer', 75),\n",
       " ('computer organization', 72),\n",
       " ('digital computer', 71),\n",
       " ('instruction counter', 71),\n",
       " ('desktop computer', 71),\n",
       " ('active vision', 71)]"
      ]
     },
     "execution_count": 22,
     "metadata": {},
     "output_type": "execute_result"
    }
   ],
   "source": [
    "process.extract(\"computer vision\",concepts,limit=10,scorer=fuzz.token_sort_ratio)"
   ]
  },
  {
   "cell_type": "code",
   "execution_count": 23,
   "metadata": {},
   "outputs": [
    {
     "data": {
      "text/plain": [
       "[('computer vision', 100),\n",
       " ('computer virus', 83),\n",
       " ('computerization', 80),\n",
       " ('computer science', 77),\n",
       " ('computer go', 77),\n",
       " ('computer simulation', 76),\n",
       " ('personal computer', 75),\n",
       " ('computer workstation', 74),\n",
       " ('computer interaction', 74),\n",
       " ('ibm computer', 74)]"
      ]
     },
     "execution_count": 23,
     "metadata": {},
     "output_type": "execute_result"
    }
   ],
   "source": [
    "process.extract(\"computer vision\",newconcepts,limit=10,scorer=fuzz.token_sort_ratio)"
   ]
  },
  {
   "cell_type": "markdown",
   "metadata": {},
   "source": [
    "### computational statistics"
   ]
  },
  {
   "cell_type": "code",
   "execution_count": 24,
   "metadata": {},
   "outputs": [
    {
     "data": {
      "text/plain": [
       "[('computational semantics', 85),\n",
       " ('computational linguistics', 82),\n",
       " ('computational physics', 80),\n",
       " ('computational pragmatics', 79),\n",
       " ('computational mechanics', 77),\n",
       " ('computational electromagnetics', 74),\n",
       " ('computational material science', 74),\n",
       " ('computational intelligence', 72),\n",
       " ('operational semantics', 71),\n",
       " ('stochastic comparison', 71)]"
      ]
     },
     "execution_count": 24,
     "metadata": {},
     "output_type": "execute_result"
    }
   ],
   "source": [
    "process.extract(\"computational statistics\",concepts,limit=10,scorer=fuzz.token_sort_ratio)"
   ]
  },
  {
   "cell_type": "code",
   "execution_count": 25,
   "metadata": {},
   "outputs": [
    {
     "data": {
      "text/plain": [
       "[('computational statistic', 98),\n",
       " ('computational semantics', 85),\n",
       " ('computational mathematics', 82),\n",
       " ('computational linguistics', 82),\n",
       " ('computational physics', 80),\n",
       " ('computational pragmatics', 79),\n",
       " ('computational mechanics', 77),\n",
       " ('computational physic', 77),\n",
       " ('computational science', 76),\n",
       " ('computational electromagnetics', 74)]"
      ]
     },
     "execution_count": 25,
     "metadata": {},
     "output_type": "execute_result"
    }
   ],
   "source": [
    "process.extract(\"computational statistics\",newconcepts,limit=10,scorer=fuzz.token_sort_ratio)"
   ]
  },
  {
   "cell_type": "markdown",
   "metadata": {},
   "source": [
    "### theory and application"
   ]
  },
  {
   "cell_type": "code",
   "execution_count": 26,
   "metadata": {},
   "outputs": [
    {
     "data": {
      "text/plain": [
       "[('application recovery', 76),\n",
       " ('inflation theory', 74),\n",
       " ('network application', 73),\n",
       " ('internalization theory', 73),\n",
       " ('application ontology', 71),\n",
       " ('computer application', 71),\n",
       " ('expectation theory', 70),\n",
       " ('application server', 70),\n",
       " ('application program', 68),\n",
       " ('asset pricing theory', 67)]"
      ]
     },
     "execution_count": 26,
     "metadata": {},
     "output_type": "execute_result"
    }
   ],
   "source": [
    "process.extract(\"theory and application\",concepts,limit=10,scorer=fuzz.token_sort_ratio)"
   ]
  },
  {
   "cell_type": "code",
   "execution_count": 27,
   "metadata": {},
   "outputs": [
    {
     "data": {
      "text/plain": [
       "[('approximation theory', 76),\n",
       " ('application recovery', 76),\n",
       " ('inflation theory', 74),\n",
       " ('internalization theory', 73),\n",
       " ('network application', 73),\n",
       " ('application layer', 72),\n",
       " ('gambling and information theory', 72),\n",
       " ('application security', 71),\n",
       " ('application ontology', 71),\n",
       " ('communication theory', 71)]"
      ]
     },
     "execution_count": 27,
     "metadata": {},
     "output_type": "execute_result"
    }
   ],
   "source": [
    "process.extract(\"theory and application\",newconcepts,limit=10,scorer=fuzz.token_sort_ratio)"
   ]
  },
  {
   "cell_type": "markdown",
   "metadata": {},
   "source": [
    "### Data mining"
   ]
  },
  {
   "cell_type": "code",
   "execution_count": 28,
   "metadata": {},
   "outputs": [
    {
     "data": {
      "text/plain": [
       "[('data mining', 100),\n",
       " ('text data mining', 81),\n",
       " ('data mining system', 76),\n",
       " ('data modeling', 75),\n",
       " ('training', 74),\n",
       " ('data smoothing', 72),\n",
       " ('data sharing', 70),\n",
       " ('financial data mining', 69),\n",
       " ('data reengineering', 69),\n",
       " ('ideational meaning', 69)]"
      ]
     },
     "execution_count": 28,
     "metadata": {},
     "output_type": "execute_result"
    }
   ],
   "source": [
    "process.extract(\"Data mining\",concepts,limit=10,scorer=fuzz.token_sort_ratio)"
   ]
  },
  {
   "cell_type": "code",
   "execution_count": 29,
   "metadata": {},
   "outputs": [
    {
     "data": {
      "text/plain": [
       "[('data mining', 100),\n",
       " ('text data mining', 81),\n",
       " ('data mapping', 78),\n",
       " ('data stream mining', 76),\n",
       " ('data miner', 76),\n",
       " ('data mining system', 76),\n",
       " ('data modeling', 75),\n",
       " ('training', 74),\n",
       " ('data smoothing', 72),\n",
       " ('data migration', 72)]"
      ]
     },
     "execution_count": 29,
     "metadata": {},
     "output_type": "execute_result"
    }
   ],
   "source": [
    "process.extract(\"Data mining\",newconcepts,limit=10,scorer=fuzz.token_sort_ratio)"
   ]
  },
  {
   "cell_type": "markdown",
   "metadata": {},
   "source": [
    "### unsupervised learning"
   ]
  },
  {
   "cell_type": "code",
   "execution_count": 30,
   "metadata": {},
   "outputs": [
    {
     "data": {
      "text/plain": [
       "[('unsupervised learning', 100),\n",
       " ('supervised learning', 95),\n",
       " ('networked learning', 72),\n",
       " ('earnings persistence', 68),\n",
       " ('online learning', 67),\n",
       " ('earnings per share; EPS', 65),\n",
       " ('retained earning', 65),\n",
       " ('programmed learning', 65),\n",
       " ('transferred meaning', 65),\n",
       " ('labor supervisor', 65)]"
      ]
     },
     "execution_count": 30,
     "metadata": {},
     "output_type": "execute_result"
    }
   ],
   "source": [
    "process.extract(\"unsupervised learning\",concepts,limit=10,scorer=fuzz.token_sort_ratio)"
   ]
  },
  {
   "cell_type": "code",
   "execution_count": 31,
   "metadata": {},
   "outputs": [
    {
     "data": {
      "text/plain": [
       "[('unsupervised learning', 100),\n",
       " ('supervised learning', 95),\n",
       " ('networked learning', 72),\n",
       " ('earnings persistence', 68),\n",
       " ('online learning', 67),\n",
       " ('earnings per share; EPS', 65),\n",
       " ('retained earning', 65),\n",
       " ('transferred meaning', 65),\n",
       " ('programmed learning', 65),\n",
       " ('labor supervisor', 65)]"
      ]
     },
     "execution_count": 31,
     "metadata": {},
     "output_type": "execute_result"
    }
   ],
   "source": [
    "process.extract(\"unsupervised learning\",newconcepts,limit=10,scorer=fuzz.token_sort_ratio)"
   ]
  },
  {
   "cell_type": "code",
   "execution_count": 72,
   "metadata": {},
   "outputs": [
    {
     "data": {
      "text/plain": [
       "[('variable rule', 79),\n",
       " ('management variable', 76),\n",
       " ('count variable', 76),\n",
       " ('variable value', 76),\n",
       " ('non-base variable', 75),\n",
       " ('language variable', 75),\n",
       " ('variable pay', 74),\n",
       " ('variable cost', 71),\n",
       " ('variable costing', 71),\n",
       " ('variable length coding', 70)]"
      ]
     },
     "execution_count": 72,
     "metadata": {},
     "output_type": "execute_result"
    }
   ],
   "source": [
    "process.extract(\"latent variable\",newconcepts,limit=10,scorer=fuzz.token_sort_ratio)"
   ]
  },
  {
   "cell_type": "code",
   "execution_count": 69,
   "metadata": {},
   "outputs": [
    {
     "data": {
      "text/plain": [
       "[('topic', 100),\n",
       " ('topic map', 71),\n",
       " ('rhetoric', 62),\n",
       " ('pitch', 60),\n",
       " ('price', 60),\n",
       " ('stock', 60),\n",
       " ('omics', 60),\n",
       " ('voice', 60),\n",
       " ('logic', 60),\n",
       " ('trope', 60)]"
      ]
     },
     "execution_count": 69,
     "metadata": {},
     "output_type": "execute_result"
    }
   ],
   "source": [
    "process.extract(\"topic\",newconcepts,limit=10,scorer=fuzz.token_sort_ratio)"
   ]
  },
  {
   "cell_type": "code",
   "execution_count": null,
   "metadata": {},
   "outputs": [],
   "source": []
  }
 ],
 "metadata": {
  "kernelspec": {
   "display_name": "Python 3",
   "language": "python",
   "name": "python3"
  },
  "language_info": {
   "codemirror_mode": {
    "name": "ipython",
    "version": 3
   },
   "file_extension": ".py",
   "mimetype": "text/x-python",
   "name": "python",
   "nbconvert_exporter": "python",
   "pygments_lexer": "ipython3",
   "version": "3.7.3"
  }
 },
 "nbformat": 4,
 "nbformat_minor": 2
}
